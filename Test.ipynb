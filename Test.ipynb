{
 "cells": [
  {
   "cell_type": "code",
   "execution_count": 1,
   "id": "canadian-savage",
   "metadata": {},
   "outputs": [],
   "source": [
    "import berserk"
   ]
  },
  {
   "cell_type": "code",
   "execution_count": 2,
   "id": "worldwide-talent",
   "metadata": {},
   "outputs": [],
   "source": [
    "\n",
    "session = berserk.TokenSession(\"lip_WemfGeUdnPbJTOoKndeV\")\n",
    "client = berserk.Client(session=session)\n"
   ]
  },
  {
   "cell_type": "code",
   "execution_count": 3,
   "id": "deadly-wagner",
   "metadata": {},
   "outputs": [
    {
     "data": {
      "text/plain": [
       "'qLV4LUK4'"
      ]
     },
     "execution_count": 3,
     "metadata": {},
     "output_type": "execute_result"
    }
   ],
   "source": [
    "client.games.import_game(\"\"\"[Event \"🕸️ Opening Traps 🕸️: Fishing Pole Trap\"]\n",
    "[Site \"https://lichess.org/study/Of3mcPk8/NHPhHyxK\"]\n",
    "[Date \"????.??.??\"]\n",
    "[Result \"*\"]\n",
    "[FEN \"rnbqkbnr/pppppppp/8/8/8/8/PPPPPPPP/RNBQKBNR w KQkq - 0 1\"]\n",
    "[UTCDate \"2016.07.21\"]\n",
    "[UTCTime \"14:05:49\"]\n",
    "[Variant \"Standard\"]\n",
    "[ECO \"C65\"]\n",
    "[Opening \"Ruy Lopez: Berlin Defense, Fishing Pole Variation\"]\n",
    "[Annotator \"https://lichess.org/@/Toxenory\"]\n",
    "\n",
    "1. e4 e5 2. Nf3 Nc6 3. Bb5 Nf6 4. O-O Ng4 5. h3 h5 6. hxg4 hxg4 7. Ne1 Qh4 8. f3 g3 { [%csl Gf2][%cal Gg3f2] } 9. Bxc6 Qh1# *\n",
    "\n",
    "\n",
    "\"\"\")"
   ]
  }
 ],
 "metadata": {
  "kernelspec": {
   "display_name": "Python 3 (ipykernel)",
   "language": "python",
   "name": "python3"
  },
  "language_info": {
   "codemirror_mode": {
    "name": "ipython",
    "version": 3
   },
   "file_extension": ".py",
   "mimetype": "text/x-python",
   "name": "python",
   "nbconvert_exporter": "python",
   "pygments_lexer": "ipython3",
   "version": "3.9.2"
  }
 },
 "nbformat": 4,
 "nbformat_minor": 5
}
